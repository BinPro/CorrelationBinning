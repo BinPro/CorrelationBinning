{
 "metadata": {
  "name": "Untitled0"
 },
 "nbformat": 3,
 "nbformat_minor": 0,
 "worksheets": [
  {
   "cells": [
    {
     "cell_type": "code",
     "collapsed": false,
     "input": [
      "from corrbin import cluster_statistics as cs"
     ],
     "language": "python",
     "metadata": {},
     "outputs": [],
     "prompt_number": 1
    },
    {
     "cell_type": "code",
     "collapsed": false,
     "input": [
      "cluster_file = \"/home/binni/MasterProject/Drasl/contigs_2_2_100_10000_start_position.fna_k3_c13_em\"\n",
      "phylo_file= \"/home/binni/MasterProject/Drasl/contigs_2_2_100_10000.phylo\"\n",
      "fasta_file = \"/home/binni/MasterProject/Drasl/contigs_2_2_100_10000_start_position.fna\""
     ],
     "language": "python",
     "metadata": {},
     "outputs": [],
     "prompt_number": 2
    },
    {
     "cell_type": "code",
     "collapsed": false,
     "input": [
      "results = (cs.get_statistics(cluster_file,phylo_file,fasta_file)+(cluster_file,))"
     ],
     "language": "python",
     "metadata": {},
     "outputs": [],
     "prompt_number": 3
    },
    {
     "cell_type": "code",
     "collapsed": false,
     "input": [
      "phylo_clusters_length, cm, cluster_file = results\n",
      "import re\n",
      "re_clusters = re.compile(\"c(\\d+)\")\n",
      "re_kmer = re.compile(\"k(\\d+)\")\n",
      "re_alg = re.compile(\"(em|kmeans)\")\n",
      "nr_clusters = re.search(re_clusters,cluster_file).groups()[0]\n",
      "kmers = re.search(re_kmer,cluster_file).groups()[0]\n",
      "alg = re.search(re_alg,cluster_file).groups()[0]\n",
      "#plot(nr_clusters,cm[\"family\"][1],\"o\",\"r\")\n",
      "#plot(nr_clusters,cm[\"family\"][2],\"x\",\"b\")\n",
      "print nr_clusters, kmers, alg"
     ],
     "language": "python",
     "metadata": {},
     "outputs": [
      {
       "output_type": "stream",
       "stream": "stdout",
       "text": [
        "13 3 em\n"
       ]
      }
     ],
     "prompt_number": 4
    },
    {
     "cell_type": "code",
     "collapsed": false,
     "input": [
      "import matplotlib.pyplot as plt\n",
      "import matplotlib.mlab as mlab\n",
      "fig = plt.figure()\n",
      "ax = fig.add_subplot(111)\n",
      "ax.plot(int(nr_clusters),cm[\"family\"][1],\"o\",color=\"r\")\n",
      "ax.plot(int(nr_clusters),cm[\"family\"][2],\"x\",color=\"b\")\n",
      "plt.show()\n"
     ],
     "language": "python",
     "metadata": {},
     "outputs": [],
     "prompt_number": 18
    },
    {
     "cell_type": "code",
     "collapsed": false,
     "input": [],
     "language": "python",
     "metadata": {},
     "outputs": [
      {
       "output_type": "pyout",
       "prompt_number": 7,
       "text": [
        "0.49326047358834246"
       ]
      }
     ],
     "prompt_number": 7
    },
    {
     "cell_type": "code",
     "collapsed": false,
     "input": [
      "plot(int(nr_clusters),cm[\"family\"][1],\"o\")"
     ],
     "language": "python",
     "metadata": {},
     "outputs": [
      {
       "output_type": "pyout",
       "prompt_number": 10,
       "text": [
        "[<matplotlib.lines.Line2D at 0x3a303d0>]"
       ]
      }
     ],
     "prompt_number": 10
    },
    {
     "cell_type": "code",
     "collapsed": false,
     "input": [],
     "language": "python",
     "metadata": {},
     "outputs": [],
     "prompt_number": 11
    },
    {
     "cell_type": "code",
     "collapsed": false,
     "input": [
      "cm"
     ],
     "language": "python",
     "metadata": {},
     "outputs": [
      {
       "output_type": "pyout",
       "prompt_number": 15,
       "text": [
        "<module 'matplotlib.cm' from '/home/binni/.virtualenvs/ProBin2.7/local/lib/python2.7/site-packages/matplotlib/cm.pyc'>"
       ]
      }
     ],
     "prompt_number": 15
    },
    {
     "cell_type": "code",
     "collapsed": false,
     "input": [
      "\"\"\"\n",
      "Make a histogram of normally distributed random numbers and plot the\n",
      "analytic PDF over it\n",
      "\"\"\"\n",
      "import numpy as np\n",
      "import matplotlib.pyplot as plt\n",
      "import matplotlib.mlab as mlab\n",
      "\n",
      "mu, sigma = 100, 15\n",
      "x = mu + sigma * np.random.randn(10000)\n",
      "\n",
      "fig = plt.figure()\n",
      "ax = fig.add_subplot(111)\n",
      "\n",
      "# the histogram of the data\n",
      "n, bins, patches = ax.hist(x, 50, normed=1, facecolor='green', alpha=0.75)\n",
      "\n",
      "# hist uses np.histogram under the hood to create 'n' and 'bins'.\n",
      "# np.histogram returns the bin edges, so there will be 50 probability\n",
      "# density values in n, 51 bin edges in bins and 50 patches.  To get\n",
      "# everything lined up, we'll compute the bin centers\n",
      "bincenters = 0.5*(bins[1:]+bins[:-1])\n",
      "# add a 'best fit' line for the normal PDF\n",
      "y = mlab.normpdf( bincenters, mu, sigma)\n",
      "l = ax.plot(bincenters, y, 'r--', linewidth=1)\n",
      "\n",
      "ax.set_xlabel('Smarts')\n",
      "ax.set_ylabel('Probability')\n",
      "#ax.set_title(r'$\\mathrm{Histogram\\ of\\ IQ:}\\ \\mu=100,\\ \\sigma=15$')\n",
      "ax.set_xlim(40, 160)\n",
      "ax.set_ylim(0, 0.03)\n",
      "ax.grid(True)\n",
      "\n",
      "plt.savefig(\"/tmp/test.png\")"
     ],
     "language": "python",
     "metadata": {},
     "outputs": [],
     "prompt_number": 14
    },
    {
     "cell_type": "code",
     "collapsed": false,
     "input": [],
     "language": "python",
     "metadata": {},
     "outputs": []
    }
   ],
   "metadata": {}
  }
 ]
}